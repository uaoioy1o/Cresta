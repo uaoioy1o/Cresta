{
 "cells": [
  {
   "cell_type": "code",
   "execution_count": 2,
   "id": "0172ad65",
   "metadata": {
    "scrolled": true
   },
   "outputs": [
    {
     "name": "stdout",
     "output_type": "stream",
     "text": [
      "Active code page: 65001\n",
      "Looking in indexes: https://pypi.tuna.tsinghua.edu.cn/simple\n",
      "Requirement already satisfied: keras in c:\\users\\xuyic\\anaconda3\\envs\\tensorflow1.4\\lib\\site-packages (2.6.0)\n"
     ]
    }
   ],
   "source": [
    "!pip install keras"
   ]
  },
  {
   "cell_type": "code",
   "execution_count": 1,
   "id": "ccd26b86",
   "metadata": {
    "scrolled": true
   },
   "outputs": [
    {
     "name": "stdout",
     "output_type": "stream",
     "text": [
      "Active code page: 65001\n",
      "Looking in indexes: https://pypi.tuna.tsinghua.edu.cn/simple\n",
      "Collecting pySpark\n",
      "  Using cached https://pypi.tuna.tsinghua.edu.cn/packages/f4/65/41eb22b7b4623d9f4560526cc456cb6425770c098a9dff6763111c4455cc/pyspark-3.2.1.tar.gz (281.4 MB)\n",
      "Collecting py4j==0.10.9.3\n",
      "  Using cached https://pypi.tuna.tsinghua.edu.cn/packages/5e/e6/68db58a1d94d41ae042400f7965ed6a2c30e4108f77b54672d6451f86ebd/py4j-0.10.9.3-py2.py3-none-any.whl (198 kB)\n",
      "Building wheels for collected packages: pySpark\n",
      "  Building wheel for pySpark (setup.py): started\n",
      "  Building wheel for pySpark (setup.py): finished with status 'done'\n",
      "  Created wheel for pySpark: filename=pyspark-3.2.1-py2.py3-none-any.whl size=281853642 sha256=70e072f8ad860f4c5394fad1b71d189ad2e66a529ca98982a0c8a89e11883735\n",
      "  Stored in directory: c:\\users\\xuyic\\appdata\\local\\pip\\cache\\wheels\\da\\03\\29\\a8a543f8e8ba20f3985bd99abad8ba88e19caeecbdf06f393b\n",
      "Successfully built pySpark\n",
      "Installing collected packages: py4j, pySpark\n",
      "Successfully installed py4j-0.10.9.3 pySpark-3.2.1\n"
     ]
    }
   ],
   "source": [
    "!pip install pySpark"
   ]
  },
  {
   "cell_type": "code",
   "execution_count": 3,
   "id": "db72ada8",
   "metadata": {},
   "outputs": [
    {
     "name": "stdout",
     "output_type": "stream",
     "text": [
      "Active code page: 65001\n",
      "Looking in indexes: https://pypi.tuna.tsinghua.edu.cn/simple\n",
      "Collecting Tableau\n",
      "  Using cached https://pypi.tuna.tsinghua.edu.cn/packages/0a/81/8996109f1fab671f7867a8df878888bd85209d78e40aa2b795c96fb257a2/tableau-0.0.3.tar.gz (11 kB)\n",
      "Building wheels for collected packages: Tableau\n",
      "  Building wheel for Tableau (setup.py): started\n",
      "  Building wheel for Tableau (setup.py): finished with status 'done'\n",
      "  Created wheel for Tableau: filename=tableau-0.0.3-py3-none-any.whl size=12616 sha256=4ac9b6b4bf3a75a6be32f063ec461d8513418d12e0e2918f5d685a17281bdc43\n",
      "  Stored in directory: c:\\users\\xuyic\\appdata\\local\\pip\\cache\\wheels\\76\\23\\de\\2dedb7726b6cd3f479945a91d66a0085a185ce920443c6e71f\n",
      "Successfully built Tableau\n",
      "Installing collected packages: Tableau\n",
      "Successfully installed Tableau-0.0.3\n"
     ]
    }
   ],
   "source": [
    "!pip install Tableau"
   ]
  },
  {
   "cell_type": "code",
   "execution_count": 3,
   "id": "c4693166",
   "metadata": {},
   "outputs": [],
   "source": [
    "import keras\n",
    "import numpy\n",
    "import sklearn\n",
    "import pyspark\n",
    "import tensorflow\n",
    "import pandas as pd\n",
    "import matplotlib.pyplot as plt"
   ]
  },
  {
   "cell_type": "code",
   "execution_count": 4,
   "id": "3d7cac05",
   "metadata": {},
   "outputs": [
    {
     "name": "stdout",
     "output_type": "stream",
     "text": [
      "<bound method NDFrame.head of      classes cap-shape cap-surface cap-color bruises? odor gill-attract  \\\n",
      "0          e         x           s         y        t    a            f   \n",
      "1          e         b           s         w        t    l            f   \n",
      "2          p         x           y         w        t    p            f   \n",
      "3          e         x           s         g        f    n            f   \n",
      "4          e         x           y         y        t    a            f   \n",
      "...      ...       ...         ...       ...      ...  ...          ...   \n",
      "8118       e         k           s         n        f    n            a   \n",
      "8119       e         x           s         n        f    n            a   \n",
      "8120       e         f           s         n        f    n            a   \n",
      "8121       p         k           y         n        f    y            f   \n",
      "8122       e         x           s         n        f    n            a   \n",
      "\n",
      "     gill-spacing gill-size gill-color  ... stalk-surface-below-ring  \\\n",
      "0               c         b          k  ...                        s   \n",
      "1               c         b          n  ...                        s   \n",
      "2               c         n          n  ...                        s   \n",
      "3               w         b          k  ...                        s   \n",
      "4               c         b          n  ...                        s   \n",
      "...           ...       ...        ...  ...                      ...   \n",
      "8118            c         b          y  ...                        s   \n",
      "8119            c         b          y  ...                        s   \n",
      "8120            c         b          n  ...                        s   \n",
      "8121            c         n          b  ...                        k   \n",
      "8122            c         b          y  ...                        s   \n",
      "\n",
      "     stalk-color-above-ring stalk-color-below-ring veil-type veil-color  \\\n",
      "0                         w                      w         p          w   \n",
      "1                         w                      w         p          w   \n",
      "2                         w                      w         p          w   \n",
      "3                         w                      w         p          w   \n",
      "4                         w                      w         p          w   \n",
      "...                     ...                    ...       ...        ...   \n",
      "8118                      o                      o         p          o   \n",
      "8119                      o                      o         p          n   \n",
      "8120                      o                      o         p          o   \n",
      "8121                      w                      w         p          w   \n",
      "8122                      o                      o         p          o   \n",
      "\n",
      "     ring-number ring-type spore-print-color population habitat  \n",
      "0              o         p                 n          n       g  \n",
      "1              o         p                 n          n       m  \n",
      "2              o         p                 k          s       u  \n",
      "3              o         e                 n          a       g  \n",
      "4              o         p                 k          n       g  \n",
      "...          ...       ...               ...        ...     ...  \n",
      "8118           o         p                 b          c       l  \n",
      "8119           o         p                 b          v       l  \n",
      "8120           o         p                 b          c       l  \n",
      "8121           o         e                 w          v       l  \n",
      "8122           o         p                 o          c       l  \n",
      "\n",
      "[8123 rows x 23 columns]>\n",
      "(8123, 23)\n",
      "Index(['classes', 'cap-shape', 'cap-surface', 'cap-color', 'bruises?', 'odor',\n",
      "       'gill-attract', 'gill-spacing', 'gill-size', 'gill-color',\n",
      "       'stalk-shape', 'stalk-root', 'stalk-surface-above-ring',\n",
      "       'stalk-surface-below-ring', 'stalk-color-above-ring',\n",
      "       'stalk-color-below-ring', 'veil-type', 'veil-color', 'ring-number',\n",
      "       'ring-type', 'spore-print-color', 'population', 'habitat'],\n",
      "      dtype='object')\n",
      "       classes cap-shape cap-surface cap-color bruises?  odor gill-attract  \\\n",
      "count     8123      8123        8123      8123     8123  8123         8123   \n",
      "unique       2         6           4        10        2     9            2   \n",
      "top          e         x           y         n        f     n            f   \n",
      "freq      4208      3655        3244      2283     4748  3528         7913   \n",
      "\n",
      "       gill-spacing gill-size gill-color  ... stalk-surface-below-ring  \\\n",
      "count          8123      8123       8123  ...                     8123   \n",
      "unique            2         2         12  ...                        4   \n",
      "top               c         b          b  ...                        s   \n",
      "freq           6811      5612       1728  ...                     4935   \n",
      "\n",
      "       stalk-color-above-ring stalk-color-below-ring veil-type veil-color  \\\n",
      "count                    8123                   8123      8123       8123   \n",
      "unique                      9                      9         1          4   \n",
      "top                         w                      w         p          w   \n",
      "freq                     4463                   4383      8123       7923   \n",
      "\n",
      "       ring-number ring-type spore-print-color population habitat  \n",
      "count         8123      8123              8123       8123    8123  \n",
      "unique           3         5                 9          6       7  \n",
      "top              o         p                 w          v       d  \n",
      "freq          7487      3967              2388       4040    3148  \n",
      "\n",
      "[4 rows x 23 columns]\n"
     ]
    }
   ],
   "source": [
    "# Q1 data choice\n",
    "# Census-Income Database\n",
    "# https://archive.ics.uci.edu/ml/datasets/Census-Income+%28KDD%29\n",
    "\n",
    "data = pd.read_csv('./agaricus-lepiota.data',sep=',')\n",
    "data.columns = ['classes','cap-shape','cap-surface','cap-color','bruises?','odor','gill-attract','gill-spacing','gill-size','gill-color','stalk-shape','stalk-root','stalk-surface-above-ring','stalk-surface-below-ring','stalk-color-above-ring','stalk-color-below-ring','veil-type','veil-color','ring-number','ring-type','spore-print-color','population','habitat']\n",
    "print(data.head)\n",
    "print(data.shape)\n",
    "print(data.columns)\n",
    "print(data.describe())"
   ]
  },
  {
   "cell_type": "code",
   "execution_count": null,
   "id": "ce2bef54",
   "metadata": {},
   "outputs": [],
   "source": [
    "# Q2 data description\n",
    "\n",
    "# From Audobon Society Field Guide; mushrooms described in terms of physical characteristics; classification: poisonous or edible. extracted from the 1994 and 1995 Current Census Surveys conducted by the U.S. Census Bureau. The data contains 41 demographic and employment-related variables.\n",
    " \n",
    "# Mushroom records taken from the Audubon Society Field Guide to North American Mushrooms\n",
    "\n",
    "# The dataset includes descriptions of hypothetical samples corresponding to 23 species of spiny mushrooms in the Agaricus and Lepiota families"
   ]
  },
  {
   "cell_type": "code",
   "execution_count": 5,
   "id": "207124c1",
   "metadata": {},
   "outputs": [
    {
     "name": "stdout",
     "output_type": "stream",
     "text": [
      "The dataset contains 8123 instances\n",
      "The dataset contains 23 attributes\n",
      "There are 0 missing values\n",
      "The [ classes ]is object\n",
      "The dataset contains e    4208\n",
      "p    3915\n",
      "Name: classes, dtype: int64 instances in each class\n",
      "-----------------------------------------------------------------------------------\n",
      "The [ cap-shape ]is object\n",
      "The dataset contains x    3655\n",
      "f    3152\n",
      "k     828\n",
      "b     452\n",
      "s      32\n",
      "c       4\n",
      "Name: cap-shape, dtype: int64 instances in each class\n",
      "-----------------------------------------------------------------------------------\n",
      "The [ cap-surface ]is object\n",
      "The dataset contains y    3244\n",
      "s    2555\n",
      "f    2320\n",
      "g       4\n",
      "Name: cap-surface, dtype: int64 instances in each class\n",
      "-----------------------------------------------------------------------------------\n",
      "The [ cap-color ]is object\n",
      "The dataset contains n    2283\n",
      "g    1840\n",
      "e    1500\n",
      "y    1072\n",
      "w    1040\n",
      "b     168\n",
      "p     144\n",
      "c      44\n",
      "u      16\n",
      "r      16\n",
      "Name: cap-color, dtype: int64 instances in each class\n",
      "-----------------------------------------------------------------------------------\n",
      "The [ bruises? ]is object\n",
      "The dataset contains f    4748\n",
      "t    3375\n",
      "Name: bruises?, dtype: int64 instances in each class\n",
      "-----------------------------------------------------------------------------------\n",
      "The [ odor ]is object\n",
      "The dataset contains n    3528\n",
      "f    2160\n",
      "s     576\n",
      "y     576\n",
      "l     400\n",
      "a     400\n",
      "p     255\n",
      "c     192\n",
      "m      36\n",
      "Name: odor, dtype: int64 instances in each class\n",
      "-----------------------------------------------------------------------------------\n",
      "The [ gill-attract ]is object\n",
      "The dataset contains f    7913\n",
      "a     210\n",
      "Name: gill-attract, dtype: int64 instances in each class\n",
      "-----------------------------------------------------------------------------------\n",
      "The [ gill-spacing ]is object\n",
      "The dataset contains c    6811\n",
      "w    1312\n",
      "Name: gill-spacing, dtype: int64 instances in each class\n",
      "-----------------------------------------------------------------------------------\n",
      "The [ gill-size ]is object\n",
      "The dataset contains b    5612\n",
      "n    2511\n",
      "Name: gill-size, dtype: int64 instances in each class\n",
      "-----------------------------------------------------------------------------------\n",
      "The [ gill-color ]is object\n",
      "The dataset contains b    1728\n",
      "p    1492\n",
      "w    1202\n",
      "n    1048\n",
      "g     752\n",
      "h     732\n",
      "u     492\n",
      "k     407\n",
      "e      96\n",
      "y      86\n",
      "o      64\n",
      "r      24\n",
      "Name: gill-color, dtype: int64 instances in each class\n",
      "-----------------------------------------------------------------------------------\n",
      "The [ stalk-shape ]is object\n",
      "The dataset contains t    4608\n",
      "e    3515\n",
      "Name: stalk-shape, dtype: int64 instances in each class\n",
      "-----------------------------------------------------------------------------------\n",
      "The [ stalk-root ]is object\n",
      "The dataset contains b    3776\n",
      "?    2480\n",
      "e    1119\n",
      "c     556\n",
      "r     192\n",
      "Name: stalk-root, dtype: int64 instances in each class\n",
      "-----------------------------------------------------------------------------------\n",
      "The [ stalk-surface-above-ring ]is object\n",
      "The dataset contains s    5175\n",
      "k    2372\n",
      "f     552\n",
      "y      24\n",
      "Name: stalk-surface-above-ring, dtype: int64 instances in each class\n",
      "-----------------------------------------------------------------------------------\n",
      "The [ stalk-surface-below-ring ]is object\n",
      "The dataset contains s    4935\n",
      "k    2304\n",
      "f     600\n",
      "y     284\n",
      "Name: stalk-surface-below-ring, dtype: int64 instances in each class\n",
      "-----------------------------------------------------------------------------------\n",
      "The [ stalk-color-above-ring ]is object\n",
      "The dataset contains w    4463\n",
      "p    1872\n",
      "g     576\n",
      "n     448\n",
      "b     432\n",
      "o     192\n",
      "e      96\n",
      "c      36\n",
      "y       8\n",
      "Name: stalk-color-above-ring, dtype: int64 instances in each class\n",
      "-----------------------------------------------------------------------------------\n",
      "The [ stalk-color-below-ring ]is object\n",
      "The dataset contains w    4383\n",
      "p    1872\n",
      "g     576\n",
      "n     512\n",
      "b     432\n",
      "o     192\n",
      "e      96\n",
      "c      36\n",
      "y      24\n",
      "Name: stalk-color-below-ring, dtype: int64 instances in each class\n",
      "-----------------------------------------------------------------------------------\n",
      "The [ veil-type ]is object\n",
      "The dataset contains p    8123\n",
      "Name: veil-type, dtype: int64 instances in each class\n",
      "-----------------------------------------------------------------------------------\n",
      "The [ veil-color ]is object\n",
      "The dataset contains w    7923\n",
      "n      96\n",
      "o      96\n",
      "y       8\n",
      "Name: veil-color, dtype: int64 instances in each class\n",
      "-----------------------------------------------------------------------------------\n",
      "The [ ring-number ]is object\n",
      "The dataset contains o    7487\n",
      "t     600\n",
      "n      36\n",
      "Name: ring-number, dtype: int64 instances in each class\n",
      "-----------------------------------------------------------------------------------\n",
      "The [ ring-type ]is object\n",
      "The dataset contains p    3967\n",
      "e    2776\n",
      "l    1296\n",
      "f      48\n",
      "n      36\n",
      "Name: ring-type, dtype: int64 instances in each class\n",
      "-----------------------------------------------------------------------------------\n",
      "The [ spore-print-color ]is object\n",
      "The dataset contains w    2388\n",
      "n    1968\n",
      "k    1871\n",
      "h    1632\n",
      "r      72\n",
      "y      48\n",
      "u      48\n",
      "b      48\n",
      "o      48\n",
      "Name: spore-print-color, dtype: int64 instances in each class\n",
      "-----------------------------------------------------------------------------------\n",
      "The [ population ]is object\n",
      "The dataset contains v    4040\n",
      "y    1712\n",
      "s    1247\n",
      "n     400\n",
      "a     384\n",
      "c     340\n",
      "Name: population, dtype: int64 instances in each class\n",
      "-----------------------------------------------------------------------------------\n",
      "The [ habitat ]is object\n",
      "The dataset contains d    3148\n",
      "g    2148\n",
      "p    1144\n",
      "l     832\n",
      "u     367\n",
      "m     292\n",
      "w     192\n",
      "Name: habitat, dtype: int64 instances in each class\n",
      "-----------------------------------------------------------------------------------\n"
     ]
    }
   ],
   "source": [
    "# Q3 initial analysis.\n",
    "\n",
    "#  how many instances does the dataset contain\n",
    "print(\"The dataset contains\",len(data),\"instances\")\n",
    "\n",
    "# how many attributes there are in the dataset\n",
    "print(\"The dataset contains\",len(data.columns),\"attributes\")\n",
    "\n",
    "# decide if there is missing value\n",
    "print(\"There are\",data.isnull().sum().sum(),\"missing values\")\n",
    "\n",
    "#  how many attributes there are in the dataset, their names, and include which is the class attribute.\n",
    "for col in data.columns:\n",
    "    print(\"The [\",col,\"]is\",data[col].dtype)\n",
    "    print(\"The dataset contains\",data[col].value_counts(),\"instances in each class\")\n",
    "    print(\"-----------------------------------------------------------------------------------\")\n",
    "    \n",
    "# preprocess the data\n",
    "processed_data = data.drop(['classes'],axis=1)"
   ]
  },
  {
   "cell_type": "code",
   "execution_count": 8,
   "id": "17e1d08c",
   "metadata": {
    "scrolled": false
   },
   "outputs": [
    {
     "name": "stdout",
     "output_type": "stream",
     "text": [
      "the cap-shape has 6 unique values\n",
      "['x' 'b' 's' 'f' 'k' 'c']\n",
      "the cap-shape has 3655 x\n",
      "the cap-shape has 452 b\n",
      "the cap-shape has 32 s\n",
      "the cap-shape has 3152 f\n",
      "the cap-shape has 828 k\n",
      "the cap-shape has 4 c\n",
      "pandas.core.groupby.generic.DataFrameGroupBy\n",
      "<class 'pandas.core.frame.DataFrame'>\n",
      "6\n",
      "3655\n"
     ]
    }
   ],
   "source": [
    "# Q4 groupby analysis\n",
    "# conducting groupby analysis\n",
    "print(\"the cap-shape has \"+str(processed_data['cap-shape'].nunique())+\" unique values\")\n",
    "\n",
    "# list the unique value\n",
    "print(processed_data['cap-shape'].unique())\n",
    "\n",
    "# a list of the unique values\n",
    "cap_shape_x=(processed_data['cap-shape']=='x')\n",
    "cap_shape_b=(processed_data['cap-shape']=='b')\n",
    "cap_shape_s=(processed_data['cap-shape']=='s')\n",
    "cap_shape_f=(processed_data['cap-shape']=='f')\n",
    "cap_shape_k=(processed_data['cap-shape']=='k')\n",
    "cap_shape_c=(processed_data['cap-shape']=='c')\n",
    "\n",
    "print(\"the cap-shape has \"+str(cap_shape_x.sum())+\" x\")\n",
    "print(\"the cap-shape has \"+str(cap_shape_b.sum())+\" b\")\n",
    "print(\"the cap-shape has \"+str(cap_shape_s.sum())+\" s\")\n",
    "print(\"the cap-shape has \"+str(cap_shape_f.sum())+\" f\")\n",
    "print(\"the cap-shape has \"+str(cap_shape_k.sum())+\" k\")\n",
    "print(\"the cap-shape has \"+str(cap_shape_c.sum())+\" c\")\n",
    "\n",
    "# groupby analysis\n",
    "cap_shape_data=processed_data.groupby('cap-shape')\n",
    "cap_shape_data.get_group('x')\n",
    "cap_shape_data.get_group('x').shape\n",
    "\n",
    "print(type(cap_shape_data))\n",
    "print(type(cap_shape_data.get_group('x')))\n",
    "print(len(cap_shape_data))\n",
    "print(len(cap_shape_data.get_group('x')))\n"
   ]
  },
  {
   "cell_type": "code",
   "execution_count": 11,
   "id": "d4ff79d3",
   "metadata": {
    "scrolled": true
   },
   "outputs": [
    {
     "data": {
      "text/plain": [
       "<AxesSubplot:>"
      ]
     },
     "execution_count": 11,
     "metadata": {},
     "output_type": "execute_result"
    },
    {
     "data": {
      "image/png": "[encoded data removed]",
      "text/plain": [
       "<Figure size 432x288 with 1 Axes>"
      ]
     },
     "metadata": {
      "needs_background": "light"
     },
     "output_type": "display_data"
    }
   ],
   "source": [
    "# Q5 data representation\n",
    "processed_data['cap-shape'].value_counts().plot(kind='bar')"
   ]
  },
  {
   "cell_type": "code",
   "execution_count": 12,
   "id": "1653c0ae",
   "metadata": {},
   "outputs": [
    {
     "data": {
      "text/plain": [
       "<AxesSubplot:>"
      ]
     },
     "execution_count": 12,
     "metadata": {},
     "output_type": "execute_result"
    },
    {
     "data": {
      "image/png": "[encoded data removed]",
      "text/plain": [
       "<Figure size 432x288 with 1 Axes>"
      ]
     },
     "metadata": {
      "needs_background": "light"
     },
     "output_type": "display_data"
    }
   ],
   "source": [
    "processed_data['cap-shape'].value_counts().plot(kind='barh')"
   ]
  },
  {
   "cell_type": "code",
   "execution_count": 13,
   "id": "2ef7376d",
   "metadata": {},
   "outputs": [
    {
     "data": {
      "text/plain": [
       "<AxesSubplot:ylabel='cap-shape'>"
      ]
     },
     "execution_count": 13,
     "metadata": {},
     "output_type": "execute_result"
    },
    {
     "data": {
      "image/png": "[encoded data removed]",
      "text/plain": [
       "<Figure size 432x288 with 1 Axes>"
      ]
     },
     "metadata": {},
     "output_type": "display_data"
    }
   ],
   "source": [
    "processed_data['cap-shape'].value_counts().plot(kind='pie')"
   ]
  },
  {
   "cell_type": "code",
   "execution_count": 14,
   "id": "3dfbea4b",
   "metadata": {
    "scrolled": true
   },
   "outputs": [
    {
     "data": {
      "text/plain": [
       "<AxesSubplot:ylabel='Frequency'>"
      ]
     },
     "execution_count": 14,
     "metadata": {},
     "output_type": "execute_result"
    },
    {
     "data": {
      "image/png": "[encoded data removed]",
      "text/plain": [
       "<Figure size 432x288 with 1 Axes>"
      ]
     },
     "metadata": {
      "needs_background": "light"
     },
     "output_type": "display_data"
    }
   ],
   "source": [
    "processed_data['cap-shape'].value_counts().plot(kind='hist',bins=40)"
   ]
  },
  {
   "cell_type": "code",
   "execution_count": 19,
   "id": "ff5b3f06",
   "metadata": {},
   "outputs": [
    {
     "name": "stdout",
     "output_type": "stream",
     "text": [
      "the accuracy of the model is: 1.0\n"
     ]
    },
    {
     "name": "stderr",
     "output_type": "stream",
     "text": [
      "C:\\Users\\xuyic\\anaconda3\\envs\\tensorflow1.4\\lib\\site-packages\\ipykernel_launcher.py:30: DataConversionWarning: A column-vector y was passed when a 1d array was expected. Please change the shape of y to (n_samples,), for example using ravel().\n"
     ]
    },
    {
     "name": "stdout",
     "output_type": "stream",
     "text": [
      "the accuracy of the model is: 1.0\n"
     ]
    }
   ],
   "source": [
    "# Q7 Data mining\n",
    "# split the data\n",
    "from sklearn.model_selection import train_test_split\n",
    "train_lr, test_lr = train_test_split(data, test_size=0.33)\n",
    "\n",
    "# feature and target\n",
    "data_features = ['cap-shape','cap-surface','cap-color','bruises?','odor','gill-attract','gill-spacing','gill-size','gill-color','stalk-shape','stalk-root','stalk-surface-above-ring','stalk-surface-below-ring','stalk-color-above-ring','stalk-color-below-ring','veil-type','veil-color','ring-number','ring-type','spore-print-color','population','habitat']\n",
    "data_target = ['classes']\n",
    "\n",
    "# ID3 algorithm\n",
    "from sklearn.feature_extraction import DictVectorizer\n",
    "from sklearn.ensemble import RandomForestClassifier\n",
    "from sklearn.tree import DecisionTreeClassifier\n",
    "from sklearn.metrics import accuracy_score\n",
    "\n",
    "vec=DictVectorizer(sparse=False)\n",
    "X_train=vec.fit_transform(train_lr[data_features].to_dict(orient='records'))\n",
    "y_train=train_lr[data_target].values\n",
    "X_test=vec.transform(test_lr[data_features].to_dict(orient='records'))\n",
    "y_test=test_lr[data_target].values\n",
    "\n",
    "\n",
    "dtc_model = DecisionTreeClassifier()\n",
    "dtc_model.fit(X_train,y_train)\n",
    "y_pred = dtc_model.predict(X_test)\n",
    "print(\"the accuracy of the model is: \"+str(accuracy_score(y_test,y_pred)))\n",
    "\n",
    "# cart algorithm\n",
    "rf_model = RandomForestClassifier(n_estimators=100)\n",
    "rf_model.fit(X_train,y_train)\n",
    "y_pred = rf_model.predict(X_test)\n",
    "print(\"the accuracy of the model is: \"+str(accuracy_score(y_test,y_pred)))"
   ]
  },
  {
   "cell_type": "code",
   "execution_count": null,
   "id": "cffc9e1c",
   "metadata": {},
   "outputs": [],
   "source": [
    "# Q8 Discussion of findings.\n",
    "# Q9 Big Data Management.\n",
    "# Q10 Report writing.\n",
    "# on report"
   ]
  }
 ],
 "metadata": {
  "kernelspec": {
   "display_name": "Python 3",
   "language": "python",
   "name": "python3"
  },
  "language_info": {
   "codemirror_mode": {
    "name": "ipython",
    "version": 3
   },
   "file_extension": ".py",
   "mimetype": "text/x-python",
   "name": "python",
   "nbconvert_exporter": "python",
   "pygments_lexer": "ipython3",
   "version": "3.6.13"
  }
 },
 "nbformat": 4,
 "nbformat_minor": 5
}
